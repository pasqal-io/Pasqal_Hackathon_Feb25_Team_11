{
 "cells": [
  {
   "cell_type": "code",
   "execution_count": null,
   "metadata": {
    "vscode": {
     "languageId": "plaintext"
    }
   },
   "outputs": [],
   "source": [
    "import os\n",
    "import numpy as np\n",
    "from matplotlib import pyplot as plt\n",
    "import rasterio\n",
    "import rasterio.plot\n",
    "from tqdm.notebook import tqdm"
   ]
  },
  {
   "cell_type": "markdown",
   "metadata": {},
   "source": [
    "# 1. Data Loading and Visualization of Fires"
   ]
  },
  {
   "cell_type": "code",
   "execution_count": null,
   "metadata": {
    "vscode": {
     "languageId": "plaintext"
    }
   },
   "outputs": [],
   "source": [
    "# TODO: choose different tif - one with a FIRE\n",
    "image_path = \"/kaggle/input/wildfirespreadts/2018/fire_21890058/2018-07-18.tif\"\n",
    "tiff = rasterio.open(image_path)\n",
    "rasterio.plot.show(tiff, title = image_path)\n",
    "plt.show()"
   ]
  },
  {
   "cell_type": "code",
   "execution_count": null,
   "metadata": {
    "vscode": {
     "languageId": "plaintext"
    }
   },
   "outputs": [],
   "source": [
    "labels = list(tiff.descriptions)\n",
    "print(labels)"
   ]
  },
  {
   "cell_type": "code",
   "execution_count": null,
   "metadata": {
    "vscode": {
     "languageId": "plaintext"
    }
   },
   "outputs": [],
   "source": [
    "fig, axs = plt.subplots(4,6, figsize=(16,16))\n",
    "for idx, (ax, label) in enumerate(zip(axs.flatten(), tiff.descriptions)):\n",
    "  im = np.expand_dims(img[idx],-1).astype(int)\n",
    "  ax.imshow(im)\n",
    "  ax.set_title(label)\n",
    "axs.flatten()[-1].remove()\n",
    "plt.tight_layout()\n",
    "plt.show()"
   ]
  },
  {
   "cell_type": "code",
   "execution_count": null,
   "metadata": {
    "vscode": {
     "languageId": "plaintext"
    }
   },
   "outputs": [],
   "source": [
    "import imageio\n",
    "import rasterio\n",
    "import os\n",
    "import numpy as np\n",
    "import matplotlib.pyplot as plt\n",
    "from IPython.display import Image, display\n",
    "\n",
    "def create_band_gif(folder_path, band_idx, label, output_gif='output.gif', duration=0.5, background_value = 15):\n",
    "    \"\"\"\n",
    "    Creates and displays a GIF from all TIFF files in a folder for a specific band.\n",
    "    \n",
    "    Args:\n",
    "        folder_path (str): Path to the folder containing TIFF files.\n",
    "        band_idx (int): Index of the band to use.\n",
    "        label (str): Label for the GIF frames.\n",
    "        output_gif (str): Output path for the GIF.\n",
    "        duration (float): Time between frames in seconds.\n",
    "    \"\"\"\n",
    "    images = []\n",
    "    tiff_files = [f for f in os.listdir(folder_path) if f.endswith('.tif') or f.endswith('.tiff')]\n",
    "\n",
    "    for file in sorted(tiff_files):\n",
    "        file_path = os.path.join(folder_path, file)\n",
    "        tiff, img, labels = read_tiff_file(file_path)\n",
    "        \n",
    "        if band_idx >= img.shape[0]:\n",
    "            print(f\"Band index {band_idx} out of range for file {file}\")\n",
    "            continue\n",
    "        \n",
    "        # Extract the specific band\n",
    "        band_img = img[band_idx]\n",
    "        band_img[np.isnan(band_img)] = background_value\n",
    "        # print(band_img.min(), band_img.max())\n",
    "        # Plot the band\n",
    "        fig, ax = plt.subplots(figsize=(6,6))\n",
    "        ax.imshow(band_img, cmap='inferno')\n",
    "        ax.set_title(f\"{label} - {file}\")\n",
    "        ax.axis('off')\n",
    "        \n",
    "        # Save plot to an image buffer\n",
    "        fig.canvas.draw()\n",
    "        image = np.frombuffer(fig.canvas.tostring_rgb(), dtype='uint8')\n",
    "        image = image.reshape(fig.canvas.get_width_height()[::-1] + (3,))\n",
    "        images.append(image)\n",
    "        plt.close(fig)\n",
    "    \n",
    "    # Create and save the GIF\n",
    "    if images:\n",
    "        imageio.mimsave(output_gif, images, duration=duration, loop=0)\n",
    "        print(f\"GIF saved to {output_gif}\")\n",
    "        \n",
    "        # Display the GIF\n",
    "        display(Image(filename=output_gif))\n",
    "    else:\n",
    "        print(\"No images were processed to create the GIF.\")\n",
    "os.makedirs('gifs', exist_ok=True)\n",
    "fire = active_fires['2018'][-1]\n",
    "gif_name = '_'.join(fire.split('/')[-2:])+'.gif'\n",
    "create_band_gif(fire, 22,labels[22], output_gif = f\"gifs/{gif_name}\")"
   ]
  },
  {
   "cell_type": "markdown",
   "metadata": {},
   "source": [
    "# 2. Load the Model and Make Predictions"
   ]
  },
  {
   "cell_type": "code",
   "execution_count": null,
   "metadata": {
    "vscode": {
     "languageId": "plaintext"
    }
   },
   "outputs": [],
   "source": [
    "device = torch.device(\"cuda\" if torch.cuda.is_available() else \"cpu\")\n",
    "# Initialize model architecture\n",
    "model = ConvLSTM(1, 1, (5, 5), 1, True, True, False)\n",
    "model.load_state_dict(torch.load(\"best.pth\", map_location=device))\n",
    "model.to(device)\n",
    "model.eval()\n",
    "TIME_STEPS = 5  # Number of leading observations\n",
    "IMG_SIZE = (32, 32)\n",
    "# INPUT_CHANNELS = 40\n",
    "# OUTPUT_CHANNELS = 1\n",
    "# EPOCHS = 50\n"
   ]
  },
  {
   "cell_type": "markdown",
   "metadata": {},
   "source": [
    "## 2.1 Load Validation Dataset (can prob remove and put a single fire here)"
   ]
  },
  {
   "cell_type": "code",
   "execution_count": null,
   "metadata": {
    "vscode": {
     "languageId": "plaintext"
    }
   },
   "outputs": [],
   "source": [
    "val_dataset = FireSpreadDataset(\n",
    "    data_dir=\"/home/petark/PycharmProjects/WildfireSpreadTS/dataset_hdf5\",  # Update with actual path\n",
    "    included_fire_years=[2020],  # Validation year\n",
    "    n_leading_observations=TIME_STEPS,\n",
    "    crop_side_length=IMG_SIZE[0],\n",
    "    load_from_hdf5=True,\n",
    "    is_train=False,\n",
    "    remove_duplicate_features=False,\n",
    "    stats_years=[2018, 2019]\n",
    ")\n",
    "\n",
    "val_loader = DataLoader(val_dataset, batch_size=1, shuffle=False)"
   ]
  },
  {
   "cell_type": "markdown",
   "metadata": {},
   "source": [
    "# 3. Classic el QUBO"
   ]
  },
  {
   "cell_type": "code",
   "execution_count": null,
   "metadata": {
    "vscode": {
     "languageId": "plaintext"
    }
   },
   "outputs": [],
   "source": [
    "# Kotec enter here - we get a matrix which tells us where to shoot water"
   ]
  },
  {
   "cell_type": "markdown",
   "metadata": {},
   "source": [
    "# 4. Quantum Optim."
   ]
  },
  {
   "cell_type": "code",
   "execution_count": null,
   "metadata": {
    "vscode": {
     "languageId": "plaintext"
    }
   },
   "outputs": [],
   "source": [
    "# Vlado enter here"
   ]
  },
  {
   "cell_type": "markdown",
   "metadata": {},
   "source": [
    "# 5. Post Processing"
   ]
  },
  {
   "cell_type": "code",
   "execution_count": null,
   "metadata": {
    "vscode": {
     "languageId": "plaintext"
    }
   },
   "outputs": [],
   "source": [
    "# ..."
   ]
  }
 ],
 "metadata": {
  "language_info": {
   "name": "python"
  }
 },
 "nbformat": 4,
 "nbformat_minor": 2
}
